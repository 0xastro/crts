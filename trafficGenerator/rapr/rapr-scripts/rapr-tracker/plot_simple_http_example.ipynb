{
 "metadata": {
  "name": ""
 },
 "nbformat": 3,
 "nbformat_minor": 0,
 "worksheets": [
  {
   "cells": [
    {
     "cell_type": "markdown",
     "metadata": {},
     "source": [
      "RAPR TRACKER\n",
      "by Joe Macker 2014\n",
      "\n",
      "A basic tool to parse rapr events.\n",
      "Also will add some examples of plotting events in time series\n",
      "\n",
      "To DO:\n",
      "\n",
      "Possibly improve this with a time series analytics approach like pandas\n",
      "This would possibly enable more interesting exploration of data with less work"
     ]
    },
    {
     "cell_type": "code",
     "collapsed": false,
     "input": [
      "import time\n",
      "from datetime import datetime\n",
      "import re\n",
      "import matplotlib.pyplot as plt\n",
      "from rapr_parser import secs_from_datetime\n",
      "from rapr_parser import parse_rapr_events\n",
      "from rapr_parser import parse_mgen_events\n",
      "from rapr_parser import get_rapr_events\n",
      "from rapr_parser import get_logicid_events\n",
      "from rapr_parser import get_mgen_size_events\n",
      "from rapr_parser import get_mgen_size_events\n",
      "from rapr_parser import plot_mgen_size_events\n",
      "from rapr_parser import plot_rapr_events\n",
      "from rapr_parser import plot_logicid_events\n",
      "\n",
      "path = 'home/rapr/rapr-scripts/simple-http-example/'\n",
      "serverFile = 'mgen-server-http.log'\n",
      "clientFile = 'mgen-client-http.log'\n",
      "raprServerFile = 'rapr-server-http.log'\n",
      "raprClientFile = 'rapr-client-http.log'"
     ],
     "language": "python",
     "metadata": {},
     "outputs": [],
     "prompt_number": 4
    },
    {
     "cell_type": "code",
     "collapsed": false,
     "input": [
      "# plot c/s mgen send traffic\n",
      "mgen_data,start_time1 = parse_mgen_events(serverFile)\n",
      "series1 = get_mgen_size_events(mgen_data)\n",
      "mgen_data,start_time1 = parse_mgen_events(clientFile)\n",
      "series2 = get_mgen_size_events(mgen_data)\n",
      "plot_mgen_size_events(series1,'server',series2,'client')\n",
      "\n",
      "# plot c/s rapr events\n",
      "rapr_data,start_time1 = parse_rapr_events(raprServerFile)\n",
      "series1 = get_rapr_events(rapr_data)\n",
      "rapr_data,start_time1 = parse_rapr_events(raprClientFile)\n",
      "series2 = get_rapr_events(rapr_data)\n",
      "plot_rapr_events(series1,'server',series2,'client')\n",
      "\n",
      "# plot c/s logicid events\n",
      "series1 = get_logicid_events(rapr_data)\n",
      "series2 = get_logicid_events(rapr_data)\n",
      "plot_logicid_events(series1,'server',series2,'client')"
     ],
     "language": "python",
     "metadata": {},
     "outputs": [],
     "prompt_number": 5
    },
    {
     "cell_type": "code",
     "collapsed": false,
     "input": [],
     "language": "python",
     "metadata": {},
     "outputs": [],
     "prompt_number": 42
    },
    {
     "cell_type": "code",
     "collapsed": false,
     "input": [],
     "language": "python",
     "metadata": {},
     "outputs": [],
     "prompt_number": 42
    },
    {
     "cell_type": "code",
     "collapsed": false,
     "input": [],
     "language": "python",
     "metadata": {},
     "outputs": [],
     "prompt_number": 42
    }
   ],
   "metadata": {}
  }
 ]
}