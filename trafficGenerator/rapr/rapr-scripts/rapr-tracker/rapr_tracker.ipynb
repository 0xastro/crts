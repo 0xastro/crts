{
 "metadata": {
  "name": ""
 },
 "nbformat": 3,
 "nbformat_minor": 0,
 "worksheets": [
  {
   "cells": [
    {
     "cell_type": "markdown",
     "metadata": {},
     "source": [
      "RAPR TRACKER\n",
      "by Joe Macker 2014\n",
      "\n",
      "A basic tool to parse rapr events.\n",
      "Also will add some examples of plotting events in time series\n",
      "\n",
      "To DO:\n",
      "\n",
      "Possibly improve this with a time series analytics approach like pandas\n",
      "This would possibly enable more interesting exploration of data with less work"
     ]
    },
    {
     "cell_type": "code",
     "collapsed": false,
     "input": [
      "import time\n",
      "from datetime import datetime\n",
      "import re\n",
      "from rapr_parser import secs_from_datetime\n",
      "from rapr_parser import parse_rapr_events\n",
      "from rapr_parser import parse_mgen_events\n",
      "from rapr_parser import get_rapr_events\n",
      "from rapr_parser import get_logicid_events\n",
      "from rapr_parser import get_mgen_dst_events\n",
      "from rapr_parser import get_mgen_size_events\n",
      "from rapr_parser import plot_rapr_events\n",
      "from rapr_parser import plot_logicid_events\n",
      "from rapr_parser import plot_mgen_size_events\n",
      "\n",
      "server_filename='rapr-server-http.log'\n",
      "client_filename='rapr-client-http.log'\n",
      "mgen_server_filename='mgen-server-http.log'\n",
      "mgen_client_filename='mgen-client-http.log'\n"
     ],
     "language": "python",
     "metadata": {},
     "outputs": [],
     "prompt_number": 3
    },
    {
     "cell_type": "code",
     "collapsed": false,
     "input": [
      "# Plot client and server rapr application events\n",
      "rapr_data,start_time1 = parse_rapr_events(filename=server_filename)\n",
      "series1 = get_rapr_events(rapr_data)\n",
      "rapr_data,start_time1 = parse_rapr_events(filename=client_filename)\n",
      "series2 = get_rapr_events(rapr_data)\n",
      "plot_rapr_events(series1,'server',series2,'client')\n"
     ],
     "language": "python",
     "metadata": {},
     "outputs": [],
     "prompt_number": 4
    },
    {
     "cell_type": "code",
     "collapsed": false,
     "input": [
      "# Plot client and server logic id events\n",
      "rapr_data,start_time1 = parse_rapr_events(filename=server_filename)\n",
      "series1 = get_logicid_events(rapr_data)\n",
      "rapr_data,start_time1 = parse_rapr_events(filename=client_filename)\n",
      "series2 = get_logicid_events(rapr_data)\n",
      "\n",
      "plot_logicid_events(series1,'server',series2,'client')\n"
     ],
     "language": "python",
     "metadata": {},
     "outputs": [],
     "prompt_number": 5
    },
    {
     "cell_type": "code",
     "collapsed": false,
     "input": [
      "# Plot client and server send events\n",
      "\n",
      "mgen_data,start_time1 = parse_mgen_events(filename=mgen_server_filename,eventType='SEND')\n",
      "series1 = get_mgen_size_events(mgen_data)\n",
      "rapr_data,start_time1 = parse_mgen_events(filename=mgen_client_filename,eventType='SEND')\n",
      "series2 = get_mgen_size_events(rapr_data)\n",
      "\n",
      "plot_mgen_size_events(series1,'server',series2,'client')\n",
      "\n"
     ],
     "language": "python",
     "metadata": {},
     "outputs": [],
     "prompt_number": 6
    },
    {
     "cell_type": "code",
     "collapsed": false,
     "input": [],
     "language": "python",
     "metadata": {},
     "outputs": [],
     "prompt_number": 6
    }
   ],
   "metadata": {}
  }
 ]
}